{
 "cells": [
  {
   "cell_type": "code",
   "execution_count": 45,
   "metadata": {},
   "outputs": [
    {
     "name": "stdout",
     "output_type": "stream",
     "text": [
      "Collecting winping\n",
      "  Downloading https://files.pythonhosted.org/packages/8a/77/8e8e27abb319fda906a6c02619c8719309552054664d5aaba5b45bf06773/winping-0.2.3-py3-none-any.whl\n",
      "Installing collected packages: winping\n",
      "Successfully installed winping-0.2.3\n"
     ]
    }
   ],
   "source": [
    "!pip install winping"
   ]
  },
  {
   "cell_type": "code",
   "execution_count": 1,
   "metadata": {},
   "outputs": [],
   "source": [
    "import win32file\n",
    "import time\n",
    "import winping\n",
    "import os"
   ]
  },
  {
   "cell_type": "code",
   "execution_count": 3,
   "metadata": {},
   "outputs": [],
   "source": [
    "def open_file():\n",
    "    Config = []\n",
    "    with open('test_prosh.txt', 'r') as g:\n",
    "        for line in g:\n",
    "            Config.append(line)\n",
    "    return Config"
   ]
  },
  {
   "cell_type": "code",
   "execution_count": 44,
   "metadata": {},
   "outputs": [
    {
     "name": "stdout",
     "output_type": "stream",
     "text": [
      "=========\n",
      "=========\n",
      "=========\n",
      "bytearray(b'admin\\r')\n",
      "(0, b'admin\\r\\r\\n')\n",
      "bytearray(b'admin\\r')\n",
      "(0, b'--------')\n",
      "bytearray(b'enable\\r')\n",
      "(0, b'-------^\\r\\r\\nError')\n",
      "bytearray(b'configure terminal \\r')\n",
      "(0, b': Bad command\\r\\r\\n\\r\\n\\rT')\n",
      "bytearray(b'interface vlan 1\\r')\n",
      "(0, b'2600G-28TS-DC#admin\\r')\n",
      "bytearray(b'no ip address\\r')\n",
      "(0, b'\\r\\n--------------')\n",
      "bytearray(b'ip address 192.168.1.3 255.255.255.0\\r')\n",
      "(0, b'-^\\r\\r\\nError: Bad comm')\n",
      "bytearray(b'end\\r')\n",
      "(0, b'and\\r\\r\\n\\r\\n\\rT2600G-28TS')\n",
      "bytearray(b'firmware upgrade ip-address 192.168.1.2 filename T2600G-28TS_DC.bin\\r')\n",
      "(0, b'-DC#enable\\r\\r\\nAlready')\n",
      "bytearray(b'y\\r')\n",
      "(0, b' in admin level.\\r\\r\\n\\r')\n",
      "bytearray(b'y\\r')\n",
      "(0, b'\\r\\n\\r\\n\\rT2600G-28TS-DC#')\n",
      "bytearray(b'\\r')\n",
      "(0, b'configure terminal \\r')\n",
      "bytearray(b'\\r')\n",
      "(0, b'\\r\\n------')\n",
      "bytearray(b'\\r')\n",
      "(0, b'--------')\n",
      "=========\n",
      "=========\n"
     ]
    }
   ],
   "source": [
    "\n",
    "print('=========')\n",
    "\n",
    "hFile = win32file.CreateFile('COM2', win32file.GENERIC_READ | win32file.GENERIC_WRITE, 0,None,win32file.OPEN_EXISTING, 0,None)\n",
    "print('=========')\n",
    "\n",
    "\n",
    "comDCB = win32file.DCB()\n",
    "print('=========')\n",
    "\n",
    "\n",
    "comDCB.ByteSize = 8\n",
    "comDCB.Parity = win32file.NOPARITY\n",
    "comDCB.BaudRate = 38400\n",
    "\n",
    "win32file.SetCommState(hFile,comDCB)\n",
    "win32file.SetupComm(hFile, 4096, 4096)\n",
    "win32file.SetCommMask(hFile, 1)\n",
    "\n",
    "\n",
    "# win32file.WaitCommEvent(hFile, None)\n",
    "comands = open_file()\n",
    "\n",
    "for comand in comands:\n",
    "    comand = comand[:-1] + '\\r'\n",
    "#     print(comand)\n",
    "    ttt=bytearray(comand, encoding='cp1251')\n",
    "    print(ttt)\n",
    "    win32file.WriteFile(hFile,ttt,None)\n",
    "    print(win32file.ReadFile(hFile, 20))\n",
    "    \n",
    "# buff='firmware upgrade ip-address 192.168.1.2 filename T2600G-28TS_DC.bin\\r'\n",
    "# ttt=bytearray(buff, encoding='cp1251')\n",
    "# win32file.WriteFile(hFile,ttt,None)\n",
    "# buff = 'y\\r'\n",
    "# ttt=bytearray(buff, encoding='cp1251')\n",
    "# win32file.WriteFile(hFile,ttt,None)\n",
    "# time.sleep(1)\n",
    "\n",
    "# buff='firmware upgrade ip-address 192.168.1.2 filename T2600G-28TS_AC.bin\\r'\n",
    "# ttt=bytearray(buff, encoding='cp1251')\n",
    "# win32file.WriteFile(hFile,ttt,None)\n",
    "# buff='hostname oleg\\r'\n",
    "# ttt=bytearray(buff, encoding='cp1251')\n",
    "# win32file.WriteFile(hFile,ttt,None)\n",
    "\n",
    "\n",
    "print('=========')\n",
    "# win32file.WaitCommEvent(hFile, None)\n",
    "\n",
    "win32file.CloseHandle(hFile)\n",
    "print('=========')\n"
   ]
  },
  {
   "cell_type": "code",
   "execution_count": 42,
   "metadata": {},
   "outputs": [],
   "source": [
    "win32file.CloseHandle(hFile)"
   ]
  },
  {
   "cell_type": "code",
   "execution_count": 11,
   "metadata": {},
   "outputs": [],
   "source": [
    "# тут идет проверка по времени. В конце выводится 999 потому что оно не равно 1\n",
    "def ping():\n",
    "    proverka = 500\n",
    "    while proverka > 50:\n",
    "\n",
    "        with winping.IcmpHandle() as h:\n",
    "            try:\n",
    "                resp = winping.ping(h, '8.8.8.8')\n",
    "                proverka = resp[0].RoundTripTime\n",
    "                \n",
    "            except:\n",
    "                pass\n",
    "                \n",
    "    return\n",
    "        \n",
    "            \n",
    "       \n",
    "\n",
    "\n",
    "    \n",
    "        "
   ]
  },
  {
   "cell_type": "code",
   "execution_count": 13,
   "metadata": {},
   "outputs": [
    {
     "name": "stdout",
     "output_type": "stream",
     "text": [
      "start\n",
      "finished\n"
     ]
    }
   ],
   "source": [
    "print('start')\n",
    "ping()\n",
    "print('finished')"
   ]
  },
  {
   "cell_type": "code",
   "execution_count": null,
   "metadata": {},
   "outputs": [],
   "source": []
  },
  {
   "cell_type": "code",
   "execution_count": null,
   "metadata": {},
   "outputs": [],
   "source": []
  }
 ],
 "metadata": {
  "kernelspec": {
   "display_name": "Python 3",
   "language": "python",
   "name": "python3"
  },
  "language_info": {
   "codemirror_mode": {
    "name": "ipython",
    "version": 3
   },
   "file_extension": ".py",
   "mimetype": "text/x-python",
   "name": "python",
   "nbconvert_exporter": "python",
   "pygments_lexer": "ipython3",
   "version": "3.7.4"
  }
 },
 "nbformat": 4,
 "nbformat_minor": 2
}
