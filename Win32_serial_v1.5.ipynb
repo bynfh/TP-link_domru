{
 "cells": [
  {
   "cell_type": "code",
   "execution_count": 78,
   "metadata": {},
   "outputs": [],
   "source": [
    "import win32file\n",
    "import time\n",
    "import winping\n",
    "import os\n",
    "import re"
   ]
  },
  {
   "cell_type": "code",
   "execution_count": 79,
   "metadata": {},
   "outputs": [],
   "source": [
    "def open_file(data):\n",
    "    Config = []\n",
    "    with open(data, 'r') as g:\n",
    "        for line in g:\n",
    "            Config.append(line)\n",
    "    return Config"
   ]
  },
  {
   "cell_type": "code",
   "execution_count": 80,
   "metadata": {},
   "outputs": [],
   "source": [
    "def create_file():\n",
    "    name_file = input_file()['Addres'] + ' ' + input_file()['IP-addres_switch'] + '.txt'\n",
    "    with open(name_file, 'w') as g:\n",
    "        for key, value in input_file().items():\n",
    "            if key == 'Addres':\n",
    "                g.write(key + '====' + transliterate.translit(input_file()['Addres'], reversed=True) + '\\n')\n",
    "            else:\n",
    "                g.write(key + '====' + value + '\\n')\n",
    "    "
   ]
  },
  {
   "cell_type": "code",
   "execution_count": 81,
   "metadata": {},
   "outputs": [],
   "source": [
    "def ping_in(IP_switch):\n",
    "    proverka = 'not ping'    \n",
    "    k = 0\n",
    "    while k <= 3:\n",
    "\n",
    "        check_host = os.system(\"ping \" + IP_switch)\n",
    "        if check_host == 0:\n",
    "            proverka = 'ping'\n",
    "            k += 1\n",
    "            print(k)\n",
    "        else:\n",
    "            proverka = 'not ping'"
   ]
  },
  {
   "cell_type": "code",
   "execution_count": 82,
   "metadata": {},
   "outputs": [],
   "source": [
    "def ping_out(IP_switch):\n",
    "    proverka = 'ping'\n",
    "\n",
    "    while proverka == 'ping':\n",
    "\n",
    "        check_host = os.system(\"ping -n 1 \" + IP_switch)\n",
    "        if check_host == 0:\n",
    "            proverka = 'ping'\n",
    "            \n",
    "        else:\n",
    "            proverka = 'not ping'"
   ]
  },
  {
   "cell_type": "code",
   "execution_count": 85,
   "metadata": {},
   "outputs": [],
   "source": [
    "def input_file():\n",
    "    slovar = {}\n",
    "    input_= open_file('For_input.txt')\n",
    "    for index, stroka in enumerate(input_):\n",
    "        input_[index] = input_[index].split('=')\n",
    "        if index == 0:\n",
    "            stroka[index] = re.sub(r\"\\.+|,+|\\s+|\",'_', stroka[index])\n",
    "    for data in input_:\n",
    "        slovar[data[0]] = data[1][:-1]\n",
    "    return slovar"
   ]
  },
  {
   "cell_type": "code",
   "execution_count": 76,
   "metadata": {},
   "outputs": [],
   "source": [
    "def proshivka_conf(ip_switch, mask, ip_tftp):\n",
    "    test_prosh = open_file('test_prosh.txt')\n",
    "    input_= open_file('For_input.txt')\n",
    "    test_prosh[6] = 'ip address ' + ip_switch + ' ' + mask + '\\n'\n",
    "    test_prosh[8] = 'firmware upgrade ip-address ' + ip_tftp + ' filename T2600G-28TS_DC.bin\\n'\n",
    "    return test_prosh\n",
    "    "
   ]
  },
  {
   "cell_type": "code",
   "execution_count": 60,
   "metadata": {},
   "outputs": [],
   "source": [
    "slovar = input_file()\n",
    "\n",
    "slovar['Addres'] = transliterate.translit(slovar['Addres'], reversed=True)\n",
    "def config():\n",
    "    config = open_file('test_v1.txt')\n",
    "    config[6] = 'hostname ' + slovar['Addres'] + '\\n'\n",
    "    config[7] = 'vlan ' + slovar['Other_vlan'] + ',' + slovar['VLAN_manage'] + '\\n'\n",
    "    config[10] = 'interface vlan ' +  slovar['VLAN_manage'] + '\\n'\n",
    "    config[12] = 'ip address ' + slovar['IP-addres_switch'] + ' ' + slovar['IP-addres_mask'] + '\\n'\n",
    "    config[16] = 'ip route 0.0.0.0 0.0.0.0 ' + slovar['Default_gateway'] + '\\n'\n",
    "    config[142] = 'lldp management-address ' + slovar['IP-addres_switch'] + '\\n'\n",
    "    i = int(slovar['Number_switch'])\n",
    "    znach = 0\n",
    "    spisok_fiz_vlan = []\n",
    "    if i == 1:\n",
    "        znach = 601\n",
    "    elif i == 2:\n",
    "        znach = 631\n",
    "    elif i == 3:\n",
    "        znach = 661\n",
    "    elif i == 4:\n",
    "        znach = 701\n",
    "    elif i == 5:\n",
    "        znach = 731\n",
    "    for j in range(znach,znach + 24):\n",
    "        spisok_fiz_vlan.append(j)\n",
    "    config[18] = 'switchport general allowed vlan ' + str(spisok_fiz_vlan[0]) + ' untagged' + '\\n'\n",
    "    config[19] = 'switchport pvid ' + str(spisok_fiz_vlan[0]) + '\\n'\n",
    "    \n",
    "    config[22] = 'switchport general allowed vlan ' + str(spisok_fiz_vlan[1]) + ' untagged' + '\\n'\n",
    "    config[23] = 'switchport pvid ' + str(spisok_fiz_vlan[1]) + '\\n'\n",
    "    \n",
    "    config[26] = 'switchport general allowed vlan ' + str(spisok_fiz_vlan[2]) + ' untagged' + '\\n'\n",
    "    config[27] = 'switchport pvid ' + str(spisok_fiz_vlan[2]) + '\\n'\n",
    "    \n",
    "    config[30] = 'switchport general allowed vlan ' + str(spisok_fiz_vlan[3]) + ' untagged' + '\\n'\n",
    "    config[31] = 'switchport pvid ' + str(spisok_fiz_vlan[3]) + '\\n'\n",
    "    \n",
    "    config[34] = 'switchport general allowed vlan ' + str(spisok_fiz_vlan[4]) + ' untagged' + '\\n'\n",
    "    config[35] = 'switchport pvid ' + str(spisok_fiz_vlan[4]) + '\\n'\n",
    "    \n",
    "    config[38] = 'switchport general allowed vlan ' + str(spisok_fiz_vlan[5]) + ' untagged' + '\\n'\n",
    "    config[39] = 'switchport pvid ' + str(spisok_fiz_vlan[5]) + '\\n'\n",
    "    \n",
    "    config[42] = 'switchport general allowed vlan ' + str(spisok_fiz_vlan[6]) + ' untagged' + '\\n'\n",
    "    config[43] = 'switchport pvid ' + str(spisok_fiz_vlan[6]) + '\\n'\n",
    "    \n",
    "    config[46] = 'switchport general allowed vlan ' + str(spisok_fiz_vlan[7]) + ' untagged' + '\\n'\n",
    "    config[47] = 'switchport pvid ' + str(spisok_fiz_vlan[7]) + '\\n'\n",
    "    \n",
    "    config[50] = 'switchport general allowed vlan ' + str(spisok_fiz_vlan[8]) + ' untagged' + '\\n'\n",
    "    config[51] = 'switchport pvid ' + str(spisok_fiz_vlan[8]) + '\\n'\n",
    "    \n",
    "    config[54] = 'switchport general allowed vlan ' + str(spisok_fiz_vlan[9]) + ' untagged' + '\\n'\n",
    "    config[55] = 'switchport pvid ' + str(spisok_fiz_vlan[9]) + '\\n'\n",
    "    \n",
    "    config[58] = 'switchport general allowed vlan ' + str(spisok_fiz_vlan[10]) + ' untagged' + '\\n'\n",
    "    config[59] = 'switchport pvid ' + str(spisok_fiz_vlan[10]) + '\\n'\n",
    "    \n",
    "    config[62] = 'switchport general allowed vlan ' + str(spisok_fiz_vlan[11]) + ' untagged' + '\\n'\n",
    "    config[63] = 'switchport pvid ' + str(spisok_fiz_vlan[11]) + '\\n'\n",
    "    \n",
    "    config[66] = 'switchport general allowed vlan ' + str(spisok_fiz_vlan[12]) + ' untagged' + '\\n'\n",
    "    config[67] = 'switchport pvid ' + str(spisok_fiz_vlan[12]) + '\\n'\n",
    "    \n",
    "    config[70] = 'switchport general allowed vlan ' + str(spisok_fiz_vlan[13]) + ' untagged' + '\\n'\n",
    "    config[71] = 'switchport pvid ' + str(spisok_fiz_vlan[13]) + '\\n'\n",
    "    \n",
    "    config[74] = 'switchport general allowed vlan ' + str(spisok_fiz_vlan[14]) + ' untagged' + '\\n'\n",
    "    config[75] = 'switchport pvid ' + str(spisok_fiz_vlan[14]) + '\\n'\n",
    "    \n",
    "    config[78] = 'switchport general allowed vlan ' + str(spisok_fiz_vlan[15]) + ' untagged' + '\\n'\n",
    "    config[79] = 'switchport pvid ' + str(spisok_fiz_vlan[15]) + '\\n'\n",
    "    \n",
    "    config[82] = 'switchport general allowed vlan ' + str(spisok_fiz_vlan[16]) + ' untagged' + '\\n'\n",
    "    config[83] = 'switchport pvid ' + str(spisok_fiz_vlan[16]) + '\\n'\n",
    "    \n",
    "    config[86] = 'switchport general allowed vlan ' + str(spisok_fiz_vlan[17]) + ' untagged' + '\\n'\n",
    "    config[87] = 'switchport pvid ' + str(spisok_fiz_vlan[17]) + '\\n'\n",
    "    \n",
    "    config[90] = 'switchport general allowed vlan ' + str(spisok_fiz_vlan[18]) + ' untagged' + '\\n'\n",
    "    config[91] = 'switchport pvid ' + str(spisok_fiz_vlan[18]) + '\\n'\n",
    "    \n",
    "    config[94] = 'switchport general allowed vlan ' + str(spisok_fiz_vlan[19]) + ' untagged' + '\\n'\n",
    "    config[95] = 'switchport pvid ' + str(spisok_fiz_vlan[19]) + '\\n'\n",
    "    \n",
    "    config[98] = 'switchport general allowed vlan ' + str(spisok_fiz_vlan[20]) + ' untagged' + '\\n'\n",
    "    config[99] = 'switchport pvid ' + str(spisok_fiz_vlan[20]) + '\\n'\n",
    "    \n",
    "    config[102] = 'switchport general allowed vlan ' + str(spisok_fiz_vlan[21]) + ' untagged' + '\\n'\n",
    "    config[103] = 'switchport pvid ' + str(spisok_fiz_vlan[21]) + '\\n'\n",
    "    \n",
    "    config[106] = 'switchport general allowed vlan ' + str(spisok_fiz_vlan[22]) + ' untagged' + '\\n'\n",
    "    config[107] = 'switchport pvid ' + str(spisok_fiz_vlan[22]) + '\\n'\n",
    "    \n",
    "    config[110] = 'switchport general allowed vlan ' + str(spisok_fiz_vlan[23]) + ' untagged' + '\\n'\n",
    "    config[111] = 'switchport pvid ' + str(spisok_fiz_vlan[23]) + '\\n'\n",
    "    config[244] = 'ip dhcp l2relay vlan ' + str(spisok_fiz_vlan[0]) + '-' + str(spisok_fiz_vlan[23]) + '\\n'\n",
    "    \n",
    "    \n",
    "    return config"
   ]
  },
  {
   "cell_type": "code",
   "execution_count": 33,
   "metadata": {},
   "outputs": [
    {
     "name": "stdout",
     "output_type": "stream",
     "text": [
      "=========\n",
      "=========\n",
      "=========\n",
      "start\n",
      "out\n",
      "1\n",
      "2\n",
      "3\n",
      "4\n",
      "in\n",
      "=========\n",
      "programm has been finished:18.79\n"
     ]
    }
   ],
   "source": [
    "start_time = time.time()\n",
    "print('=========')\n",
    "\n",
    "hFile = win32file.CreateFile('COM2', win32file.GENERIC_READ | win32file.GENERIC_WRITE, 0,None,win32file.OPEN_EXISTING, 0,None)\n",
    "print('=========')\n",
    "\n",
    "\n",
    "comDCB = win32file.DCB()\n",
    "print('=========')\n",
    "\n",
    "\n",
    "comDCB.ByteSize = 8\n",
    "comDCB.Parity = win32file.NOPARITY\n",
    "comDCB.BaudRate = 38400\n",
    "\n",
    "win32file.SetCommState(hFile,comDCB)\n",
    "win32file.SetupComm(hFile, 4096, 4096)\n",
    "win32file.SetCommMask(hFile, 1)\n",
    "\n",
    "Ip_switch = '192.168.0.1'\n",
    "Ip_tftp = '192.168.0.2'\n",
    "mask = '255.255.255.0'\n",
    "create_file()\n",
    "slovar = input_file()\n",
    "proshivka = proshivka_conf(Ip_switch, mask, Ip_tftp)\n",
    "config_ = config()\n",
    "\n",
    "\n",
    "\n",
    "\n",
    "for comand_proshivka in proshivka:\n",
    "    \n",
    "    comand_proshivka = comand_proshivka[:-1] + '\\r'\n",
    "    ttt=bytearray(comand_proshivka, encoding='cp1251')\n",
    "    win32file.WriteFile(hFile,ttt,None)\n",
    "    \n",
    "\n",
    "print('start')\n",
    "ping_out('192.168.0.1')\n",
    "print('out')\n",
    "ping_in('192.168.0.1')\n",
    "print('in')\n",
    "for comand_config in config_:\n",
    "    \n",
    "    comand_config = comand_config[:-1] + '\\r'\n",
    "    ttt=bytearray(comand_config, encoding='cp1251')\n",
    "    win32file.WriteFile(hFile,ttt,None)\n",
    "\n",
    "\n",
    "\n",
    "\n",
    "\n",
    "\n",
    "\n",
    "print('=========')\n",
    "\n",
    "\n",
    "win32file.CloseHandle(hFile)\n",
    "print('programm has been finished:{:.2f}'.format(time.time() - start_time))\n"
   ]
  },
  {
   "cell_type": "code",
   "execution_count": 32,
   "metadata": {},
   "outputs": [
    {
     "ename": "NameError",
     "evalue": "name 'hFile' is not defined",
     "output_type": "error",
     "traceback": [
      "\u001b[1;31m---------------------------------------------------------------------------\u001b[0m",
      "\u001b[1;31mNameError\u001b[0m                                 Traceback (most recent call last)",
      "\u001b[1;32m<ipython-input-32-22adb2230336>\u001b[0m in \u001b[0;36m<module>\u001b[1;34m\u001b[0m\n\u001b[1;32m----> 1\u001b[1;33m \u001b[0mwin32file\u001b[0m\u001b[1;33m.\u001b[0m\u001b[0mCloseHandle\u001b[0m\u001b[1;33m(\u001b[0m\u001b[0mhFile\u001b[0m\u001b[1;33m)\u001b[0m\u001b[1;33m\u001b[0m\u001b[1;33m\u001b[0m\u001b[0m\n\u001b[0m",
      "\u001b[1;31mNameError\u001b[0m: name 'hFile' is not defined"
     ]
    }
   ],
   "source": [
    "win32file.CloseHandle(hFile)"
   ]
  },
  {
   "cell_type": "code",
   "execution_count": 86,
   "metadata": {},
   "outputs": [
    {
     "ename": "TypeError",
     "evalue": "'str' object does not support item assignment",
     "output_type": "error",
     "traceback": [
      "\u001b[1;31m---------------------------------------------------------------------------\u001b[0m",
      "\u001b[1;31mTypeError\u001b[0m                                 Traceback (most recent call last)",
      "\u001b[1;32m<ipython-input-86-b4c19c811ec2>\u001b[0m in \u001b[0;36m<module>\u001b[1;34m\u001b[0m\n\u001b[1;32m----> 1\u001b[1;33m \u001b[0minput_file\u001b[0m\u001b[1;33m(\u001b[0m\u001b[1;33m)\u001b[0m\u001b[1;33m\u001b[0m\u001b[1;33m\u001b[0m\u001b[0m\n\u001b[0m\u001b[0;32m      2\u001b[0m \u001b[0mslovar\u001b[0m \u001b[1;33m=\u001b[0m \u001b[0minput_file\u001b[0m\u001b[1;33m(\u001b[0m\u001b[1;33m)\u001b[0m\u001b[1;33m\u001b[0m\u001b[1;33m\u001b[0m\u001b[0m\n\u001b[0;32m      3\u001b[0m \u001b[1;32mfor\u001b[0m \u001b[0mkey\u001b[0m\u001b[1;33m,\u001b[0m \u001b[0mvalue\u001b[0m \u001b[1;32min\u001b[0m \u001b[0mslovar\u001b[0m\u001b[1;33m.\u001b[0m\u001b[0mitems\u001b[0m\u001b[1;33m(\u001b[0m\u001b[1;33m)\u001b[0m\u001b[1;33m:\u001b[0m\u001b[1;33m\u001b[0m\u001b[1;33m\u001b[0m\u001b[0m\n\u001b[0;32m      4\u001b[0m     \u001b[0mprint\u001b[0m\u001b[1;33m(\u001b[0m\u001b[0mkey\u001b[0m\u001b[1;33m,\u001b[0m \u001b[0mvalue\u001b[0m\u001b[1;33m)\u001b[0m\u001b[1;33m\u001b[0m\u001b[1;33m\u001b[0m\u001b[0m\n\u001b[0;32m      5\u001b[0m \u001b[1;33m\u001b[0m\u001b[0m\n",
      "\u001b[1;32m<ipython-input-85-d54a1d272278>\u001b[0m in \u001b[0;36minput_file\u001b[1;34m()\u001b[0m\n\u001b[0;32m      5\u001b[0m         \u001b[0minput_\u001b[0m\u001b[1;33m[\u001b[0m\u001b[0mindex\u001b[0m\u001b[1;33m]\u001b[0m \u001b[1;33m=\u001b[0m \u001b[0minput_\u001b[0m\u001b[1;33m[\u001b[0m\u001b[0mindex\u001b[0m\u001b[1;33m]\u001b[0m\u001b[1;33m.\u001b[0m\u001b[0msplit\u001b[0m\u001b[1;33m(\u001b[0m\u001b[1;34m'='\u001b[0m\u001b[1;33m)\u001b[0m\u001b[1;33m\u001b[0m\u001b[1;33m\u001b[0m\u001b[0m\n\u001b[0;32m      6\u001b[0m         \u001b[1;32mif\u001b[0m \u001b[0mindex\u001b[0m \u001b[1;33m==\u001b[0m \u001b[1;36m0\u001b[0m\u001b[1;33m:\u001b[0m\u001b[1;33m\u001b[0m\u001b[1;33m\u001b[0m\u001b[0m\n\u001b[1;32m----> 7\u001b[1;33m             \u001b[0mstroka\u001b[0m\u001b[1;33m[\u001b[0m\u001b[0mindex\u001b[0m\u001b[1;33m]\u001b[0m \u001b[1;33m=\u001b[0m \u001b[0mre\u001b[0m\u001b[1;33m.\u001b[0m\u001b[0msub\u001b[0m\u001b[1;33m(\u001b[0m\u001b[1;34mr\"\\.+|,+|\\s+|\"\u001b[0m\u001b[1;33m,\u001b[0m\u001b[1;34m'_'\u001b[0m\u001b[1;33m,\u001b[0m \u001b[0mstroka\u001b[0m\u001b[1;33m[\u001b[0m\u001b[0mindex\u001b[0m\u001b[1;33m]\u001b[0m\u001b[1;33m)\u001b[0m\u001b[1;33m\u001b[0m\u001b[1;33m\u001b[0m\u001b[0m\n\u001b[0m\u001b[0;32m      8\u001b[0m     \u001b[1;32mfor\u001b[0m \u001b[0mdata\u001b[0m \u001b[1;32min\u001b[0m \u001b[0minput_\u001b[0m\u001b[1;33m:\u001b[0m\u001b[1;33m\u001b[0m\u001b[1;33m\u001b[0m\u001b[0m\n\u001b[0;32m      9\u001b[0m         \u001b[0mslovar\u001b[0m\u001b[1;33m[\u001b[0m\u001b[0mdata\u001b[0m\u001b[1;33m[\u001b[0m\u001b[1;36m0\u001b[0m\u001b[1;33m]\u001b[0m\u001b[1;33m]\u001b[0m \u001b[1;33m=\u001b[0m \u001b[0mdata\u001b[0m\u001b[1;33m[\u001b[0m\u001b[1;36m1\u001b[0m\u001b[1;33m]\u001b[0m\u001b[1;33m[\u001b[0m\u001b[1;33m:\u001b[0m\u001b[1;33m-\u001b[0m\u001b[1;36m1\u001b[0m\u001b[1;33m]\u001b[0m\u001b[1;33m\u001b[0m\u001b[1;33m\u001b[0m\u001b[0m\n",
      "\u001b[1;31mTypeError\u001b[0m: 'str' object does not support item assignment"
     ]
    }
   ],
   "source": [
    "input_file()\n",
    "slovar = input_file()\n",
    "for key, value in slovar.items():\n",
    "    print(key, value)\n",
    "    "
   ]
  },
  {
   "cell_type": "code",
   "execution_count": 69,
   "metadata": {},
   "outputs": [],
   "source": [
    "create_file()"
   ]
  },
  {
   "cell_type": "code",
   "execution_count": 61,
   "metadata": {},
   "outputs": [
    {
     "name": "stdout",
     "output_type": "stream",
     "text": [
      "G.Uspenskogo 2a, 2 pod_DSh\n"
     ]
    }
   ],
   "source": [
    "import transliterate\n",
    "slovar = input_file()\n",
    "print(transliterate.translit(slovar['Addres'], reversed=True))\n"
   ]
  },
  {
   "cell_type": "code",
   "execution_count": 130,
   "metadata": {},
   "outputs": [],
   "source": [
    "def input_file():\n",
    "    slovar = {}\n",
    "    input_= open_file('For_input.txt')\n",
    "    print(input_)\n",
    "    input_[0] = re.sub(r\" ДШ\",'_DSH', input_[0])\n",
    "    input_[0] = re.sub(r\" ПШ\",'_PSH', input_[0])\n",
    "    input_[0] = re.sub(r\"\\.+|,+|\\s+\",'-', input_[0][:-1])\n",
    "    \n",
    "    input_[0] = input_[0] + '\\n'\n",
    "    \n",
    "    \n",
    "    for index, stroka in enumerate(input_):\n",
    "        input_[index] = input_[index].split('=')\n",
    "        \n",
    "            \n",
    "    for data in input_:\n",
    "        slovar[data[0]] = data[1][:-1]\n",
    "    slovar['Addres'] = transliterate.translit(slovar['Addres'], reversed=True)\n",
    "    \n",
    "    return slovar"
   ]
  },
  {
   "cell_type": "code",
   "execution_count": 131,
   "metadata": {},
   "outputs": [
    {
     "name": "stdout",
     "output_type": "stream",
     "text": [
      "['Addres=Г.Успенского 2а, 2 под ДШ\\n', 'IP-addres_switch=10.255.212.161\\n', 'Default_gateway=10.255.212.254\\n', 'IP-addres_mask=255.255.255.0\\n', 'VLAN_manage=2899\\n', 'Other_vlan=500-800,3700-3799,2896-2898\\n', 'Number_switch=1\\n']\n"
     ]
    },
    {
     "data": {
      "text/plain": [
       "{'Addres': 'G-Uspenskogo-2a--2-pod_DSH',\n",
       " 'IP-addres_switch': '10.255.212.161',\n",
       " 'Default_gateway': '10.255.212.254',\n",
       " 'IP-addres_mask': '255.255.255.0',\n",
       " 'VLAN_manage': '2899',\n",
       " 'Other_vlan': '500-800,3700-3799,2896-2898',\n",
       " 'Number_switch': '1'}"
      ]
     },
     "execution_count": 131,
     "metadata": {},
     "output_type": "execute_result"
    }
   ],
   "source": [
    "input_file()"
   ]
  },
  {
   "cell_type": "code",
   "execution_count": null,
   "metadata": {},
   "outputs": [],
   "source": []
  }
 ],
 "metadata": {
  "kernelspec": {
   "display_name": "Python 3",
   "language": "python",
   "name": "python3"
  },
  "language_info": {
   "codemirror_mode": {
    "name": "ipython",
    "version": 3
   },
   "file_extension": ".py",
   "mimetype": "text/x-python",
   "name": "python",
   "nbconvert_exporter": "python",
   "pygments_lexer": "ipython3",
   "version": "3.7.4"
  }
 },
 "nbformat": 4,
 "nbformat_minor": 2
}
