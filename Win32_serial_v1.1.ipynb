{
 "cells": [
  {
   "cell_type": "code",
   "execution_count": 4,
   "metadata": {},
   "outputs": [
    {
     "name": "stdout",
     "output_type": "stream",
     "text": [
      "Requirement already satisfied: pywin32 in c:\\users\\oleg\\anaconda3\\lib\\site-packages (223)\n"
     ]
    }
   ],
   "source": [
    "!pip install pywin32"
   ]
  },
  {
   "cell_type": "code",
   "execution_count": 1,
   "metadata": {},
   "outputs": [],
   "source": [
    "import win32file"
   ]
  },
  {
   "cell_type": "code",
   "execution_count": null,
   "metadata": {},
   "outputs": [
    {
     "name": "stdout",
     "output_type": "stream",
     "text": [
      "=========\n",
      "=========\n",
      "=========\n"
     ]
    }
   ],
   "source": [
    "print('=========')\n",
    "\n",
    "hFile = win32file.CreateFile('COM1', win32file.GENERIC_READ | win32file.GENERIC_WRITE, 0,None,win32file.OPEN_EXISTING, 0,None)\n",
    "print('=========')\n",
    "\n",
    "\n",
    "comDCB = win32file.DCB()\n",
    "print('=========')\n",
    "\n",
    "\n",
    "comDCB.ByteSize = 8\n",
    "comDCB.Parity = win32file.NOPARITY\n",
    "comDCB.BaudRate = 9600\n",
    "\n",
    "\n",
    "\n",
    "win32file.SetCommState(hFile,comDCB)\n",
    "\n",
    "\n",
    "\n",
    "win32file.SetupComm(hFile, 4096, 4096)\n",
    "\n",
    "\n",
    "\n",
    "win32file.SetCommMask(hFile, 1)\n",
    "\n",
    "\n",
    "win32file.WaitCommEvent(hFile, None)\n",
    "\n",
    "\n",
    "\n",
    "buff='hello'\n",
    "\n",
    "\n",
    "\n",
    "ttt=bytearray(buff, encoding='cp1251')\n",
    "\n",
    "\n",
    "win32file.WriteFile(hFile,ttt,None)\n",
    "print('=========')\n",
    "win32file.WaitCommEvent(hFile, None)\n",
    "win32file.ReadFile(hFile, 19)\n",
    "win32file.CloseHandle(hFile)\n"
   ]
  },
  {
   "cell_type": "code",
   "execution_count": null,
   "metadata": {},
   "outputs": [],
   "source": []
  }
 ],
 "metadata": {
  "kernelspec": {
   "display_name": "Python 3",
   "language": "python",
   "name": "python3"
  },
  "language_info": {
   "codemirror_mode": {
    "name": "ipython",
    "version": 3
   },
   "file_extension": ".py",
   "mimetype": "text/x-python",
   "name": "python",
   "nbconvert_exporter": "python",
   "pygments_lexer": "ipython3",
   "version": "3.7.4"
  }
 },
 "nbformat": 4,
 "nbformat_minor": 2
}
