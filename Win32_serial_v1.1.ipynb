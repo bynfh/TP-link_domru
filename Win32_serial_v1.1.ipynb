{
 "cells": [
  {
   "cell_type": "code",
   "execution_count": 45,
   "metadata": {},
   "outputs": [
    {
     "name": "stdout",
     "output_type": "stream",
     "text": [
      "Collecting winping\n",
      "  Downloading https://files.pythonhosted.org/packages/8a/77/8e8e27abb319fda906a6c02619c8719309552054664d5aaba5b45bf06773/winping-0.2.3-py3-none-any.whl\n",
      "Installing collected packages: winping\n",
      "Successfully installed winping-0.2.3\n"
     ]
    }
   ],
   "source": [
    "!pip install winping"
   ]
  },
  {
   "cell_type": "code",
   "execution_count": 24,
   "metadata": {},
   "outputs": [],
   "source": [
    "import win32file\n",
    "import time\n",
    "import winping\n",
    "import os"
   ]
  },
  {
   "cell_type": "code",
   "execution_count": 3,
   "metadata": {},
   "outputs": [],
   "source": [
    "def open_file():\n",
    "    Config = []\n",
    "    with open('test_prosh.txt', 'r') as g:\n",
    "        for line in g:\n",
    "            Config.append(line)\n",
    "    return Config"
   ]
  },
  {
   "cell_type": "code",
   "execution_count": 44,
   "metadata": {},
   "outputs": [
    {
     "name": "stdout",
     "output_type": "stream",
     "text": [
      "=========\n",
      "=========\n",
      "=========\n",
      "bytearray(b'admin\\r')\n",
      "(0, b'admin\\r\\r\\n')\n",
      "bytearray(b'admin\\r')\n",
      "(0, b'--------')\n",
      "bytearray(b'enable\\r')\n",
      "(0, b'-------^\\r\\r\\nError')\n",
      "bytearray(b'configure terminal \\r')\n",
      "(0, b': Bad command\\r\\r\\n\\r\\n\\rT')\n",
      "bytearray(b'interface vlan 1\\r')\n",
      "(0, b'2600G-28TS-DC#admin\\r')\n",
      "bytearray(b'no ip address\\r')\n",
      "(0, b'\\r\\n--------------')\n",
      "bytearray(b'ip address 192.168.1.3 255.255.255.0\\r')\n",
      "(0, b'-^\\r\\r\\nError: Bad comm')\n",
      "bytearray(b'end\\r')\n",
      "(0, b'and\\r\\r\\n\\r\\n\\rT2600G-28TS')\n",
      "bytearray(b'firmware upgrade ip-address 192.168.1.2 filename T2600G-28TS_DC.bin\\r')\n",
      "(0, b'-DC#enable\\r\\r\\nAlready')\n",
      "bytearray(b'y\\r')\n",
      "(0, b' in admin level.\\r\\r\\n\\r')\n",
      "bytearray(b'y\\r')\n",
      "(0, b'\\r\\n\\r\\n\\rT2600G-28TS-DC#')\n",
      "bytearray(b'\\r')\n",
      "(0, b'configure terminal \\r')\n",
      "bytearray(b'\\r')\n",
      "(0, b'\\r\\n------')\n",
      "bytearray(b'\\r')\n",
      "(0, b'--------')\n",
      "=========\n",
      "=========\n"
     ]
    }
   ],
   "source": [
    "\n",
    "print('=========')\n",
    "\n",
    "hFile = win32file.CreateFile('COM2', win32file.GENERIC_READ | win32file.GENERIC_WRITE, 0,None,win32file.OPEN_EXISTING, 0,None)\n",
    "print('=========')\n",
    "\n",
    "\n",
    "comDCB = win32file.DCB()\n",
    "print('=========')\n",
    "\n",
    "\n",
    "comDCB.ByteSize = 8\n",
    "comDCB.Parity = win32file.NOPARITY\n",
    "comDCB.BaudRate = 38400\n",
    "\n",
    "win32file.SetCommState(hFile,comDCB)\n",
    "win32file.SetupComm(hFile, 4096, 4096)\n",
    "win32file.SetCommMask(hFile, 1)\n",
    "\n",
    "\n",
    "# win32file.WaitCommEvent(hFile, None)\n",
    "comands = open_file()\n",
    "\n",
    "for comand in comands:\n",
    "    comand = comand[:-1] + '\\r'\n",
    "#     print(comand)\n",
    "    ttt=bytearray(comand, encoding='cp1251')\n",
    "    print(ttt)\n",
    "    win32file.WriteFile(hFile,ttt,None)\n",
    "    print(win32file.ReadFile(hFile, 20))\n",
    "    \n",
    "# buff='firmware upgrade ip-address 192.168.1.2 filename T2600G-28TS_DC.bin\\r'\n",
    "# ttt=bytearray(buff, encoding='cp1251')\n",
    "# win32file.WriteFile(hFile,ttt,None)\n",
    "# buff = 'y\\r'\n",
    "# ttt=bytearray(buff, encoding='cp1251')\n",
    "# win32file.WriteFile(hFile,ttt,None)\n",
    "# time.sleep(1)\n",
    "\n",
    "# buff='firmware upgrade ip-address 192.168.1.2 filename T2600G-28TS_AC.bin\\r'\n",
    "# ttt=bytearray(buff, encoding='cp1251')\n",
    "# win32file.WriteFile(hFile,ttt,None)\n",
    "# buff='hostname oleg\\r'\n",
    "# ttt=bytearray(buff, encoding='cp1251')\n",
    "# win32file.WriteFile(hFile,ttt,None)\n",
    "\n",
    "\n",
    "print('=========')\n",
    "# win32file.WaitCommEvent(hFile, None)\n",
    "\n",
    "win32file.CloseHandle(hFile)\n",
    "print('=========')\n"
   ]
  },
  {
   "cell_type": "code",
   "execution_count": 42,
   "metadata": {},
   "outputs": [],
   "source": [
    "win32file.CloseHandle(hFile)"
   ]
  },
  {
   "cell_type": "code",
   "execution_count": 76,
   "metadata": {},
   "outputs": [
    {
     "name": "stdout",
     "output_type": "stream",
     "text": [
      "998\n"
     ]
    }
   ],
   "source": [
    "# тут идет проверка по времени. В конце выводится 999 потому что оно не равно 1\n",
    "import winping\n",
    "proverka = 0\n",
    "while proverka == 0:\n",
    "    \n",
    "    with winping.IcmpHandle() as h:\n",
    "        try:\n",
    "            resp = winping.ping(h, '192.168.1.1')\n",
    "            proverka = resp[0].RoundTripTime\n",
    "            print(proverka)\n",
    "        except:\n",
    "            pass\n",
    "       \n",
    "\n",
    "\n",
    "    \n",
    "        "
   ]
  },
  {
   "cell_type": "code",
   "execution_count": 49,
   "metadata": {},
   "outputs": [
    {
     "name": "stdout",
     "output_type": "stream",
     "text": [
      "0\n",
      "False\n",
      "0\n",
      "False\n",
      "0\n",
      "False\n",
      "0\n",
      "False\n",
      "0\n",
      "False\n",
      "0\n",
      "False\n",
      "0\n",
      "False\n",
      "0\n",
      "False\n",
      "0\n",
      "False\n",
      "0\n",
      "False\n",
      "0\n",
      "False\n",
      "0\n",
      "False\n",
      "0\n",
      "False\n",
      "0\n",
      "False\n",
      "0\n",
      "False\n",
      "0\n",
      "False\n",
      "0\n",
      "False\n",
      "0\n",
      "False\n",
      "0\n",
      "False\n",
      "0\n",
      "False\n",
      "0\n",
      "False\n"
     ]
    },
    {
     "ename": "KeyboardInterrupt",
     "evalue": "",
     "output_type": "error",
     "traceback": [
      "\u001b[1;31m---------------------------------------------------------------------------\u001b[0m",
      "\u001b[1;31mKeyboardInterrupt\u001b[0m                         Traceback (most recent call last)",
      "\u001b[1;32m<ipython-input-49-8da93a2b9c36>\u001b[0m in \u001b[0;36m<module>\u001b[1;34m\u001b[0m\n\u001b[0;32m      4\u001b[0m \u001b[1;32mwhile\u001b[0m \u001b[0mresponse\u001b[0m \u001b[1;33m==\u001b[0m \u001b[1;36m0\u001b[0m\u001b[1;33m:\u001b[0m\u001b[1;33m\u001b[0m\u001b[1;33m\u001b[0m\u001b[0m\n\u001b[0;32m      5\u001b[0m \u001b[1;33m\u001b[0m\u001b[0m\n\u001b[1;32m----> 6\u001b[1;33m     \u001b[0mresponse\u001b[0m \u001b[1;33m=\u001b[0m \u001b[0mos\u001b[0m\u001b[1;33m.\u001b[0m\u001b[0msystem\u001b[0m\u001b[1;33m(\u001b[0m\u001b[1;34m\"ping \"\u001b[0m \u001b[1;33m+\u001b[0m \u001b[0mhostname\u001b[0m \u001b[1;33m+\u001b[0m \u001b[1;34m\" -n 1\"\u001b[0m\u001b[1;33m)\u001b[0m\u001b[1;33m\u001b[0m\u001b[1;33m\u001b[0m\u001b[0m\n\u001b[0m\u001b[0;32m      7\u001b[0m     \u001b[0mprint\u001b[0m\u001b[1;33m(\u001b[0m\u001b[0mresponse\u001b[0m\u001b[1;33m)\u001b[0m\u001b[1;33m\u001b[0m\u001b[1;33m\u001b[0m\u001b[0m\n\u001b[0;32m      8\u001b[0m     \u001b[1;32mif\u001b[0m \u001b[0mresponse\u001b[0m \u001b[1;33m==\u001b[0m \u001b[1;36m1\u001b[0m\u001b[1;33m:\u001b[0m\u001b[1;33m\u001b[0m\u001b[1;33m\u001b[0m\u001b[0m\n",
      "\u001b[1;31mKeyboardInterrupt\u001b[0m: "
     ]
    }
   ],
   "source": [
    "response = 0\n",
    "hostname = \"192.168.1.3\"\n",
    "\n",
    "while response == 0:\n",
    "    \n",
    "    response = os.system(\"ping \" + hostname + \" -n 1\")\n",
    "    print(response)\n",
    "    if response == 1:\n",
    "        print(\"True\")\n",
    "    else:\n",
    "        print(\"False\")"
   ]
  },
  {
   "cell_type": "code",
   "execution_count": null,
   "metadata": {},
   "outputs": [],
   "source": []
  }
 ],
 "metadata": {
  "kernelspec": {
   "display_name": "Python 3",
   "language": "python",
   "name": "python3"
  },
  "language_info": {
   "codemirror_mode": {
    "name": "ipython",
    "version": 3
   },
   "file_extension": ".py",
   "mimetype": "text/x-python",
   "name": "python",
   "nbconvert_exporter": "python",
   "pygments_lexer": "ipython3",
   "version": "3.7.4"
  }
 },
 "nbformat": 4,
 "nbformat_minor": 2
}
